{
 "cells": [
  {
   "cell_type": "code",
   "execution_count": 8,
   "metadata": {
    "colab": {
     "base_uri": "https://localhost:8080/"
    },
    "executionInfo": {
     "elapsed": 1114,
     "status": "ok",
     "timestamp": 1730329198929,
     "user": {
      "displayName": "Ujwala Munigela",
      "userId": "00083464674266702357"
     },
     "user_tz": 240
    },
    "id": "ohbaoQTjN52e",
    "outputId": "e41347dd-9725-486b-c097-42d5b1e176d6"
   },
   "outputs": [
    {
     "output_type": "stream",
     "name": "stdout",
     "text": [
      "Drive already mounted at /content/drive; to attempt to forcibly remount, call drive.mount(\"/content/drive\", force_remount=True).\n",
      "/content/drive/My Drive/682_Project\n",
      "The autoreload extension is already loaded. To reload it, use:\n",
      "  %reload_ext autoreload\n"
     ]
    }
   ],
   "source": [
    "from google.colab import drive\n",
    "drive.mount('/content/drive')\n",
    "\n",
    "# TODO: Enter the foldername in your Drive where you have saved the unzipped\n",
    "FOLDERNAME = '682_Project'\n",
    "assert FOLDERNAME is not None, \"[!] Enter the foldername.\"\n",
    "\n",
    "import sys\n",
    "sys.path.append('/content/drive/My Drive/{}'.format(FOLDERNAME))\n",
    "%cd /content/drive/My\\ Drive/$FOLDERNAME\n",
    "\n",
    "%load_ext autoreload\n",
    "%autoreload 2"
   ]
  },
  {
   "cell_type": "code",
   "execution_count": 9,
   "metadata": {
    "colab": {
     "base_uri": "https://localhost:8080/"
    },
    "executionInfo": {
     "elapsed": 9733,
     "status": "ok",
     "timestamp": 1730329209757,
     "user": {
      "displayName": "Ujwala Munigela",
      "userId": "00083464674266702357"
     },
     "user_tz": 240
    },
    "id": "NkomuHR7qmhR",
    "outputId": "8d8ff653-1e26-4c0a-fe69-6c1585842abb"
   },
   "outputs": [
    {
     "output_type": "stream",
     "name": "stdout",
     "text": [
      "Requirement already satisfied: nltk in /usr/local/lib/python3.10/dist-packages (3.8.1)\n",
      "Requirement already satisfied: click in /usr/local/lib/python3.10/dist-packages (from nltk) (8.1.7)\n",
      "Requirement already satisfied: joblib in /usr/local/lib/python3.10/dist-packages (from nltk) (1.4.2)\n",
      "Requirement already satisfied: regex>=2021.8.3 in /usr/local/lib/python3.10/dist-packages (from nltk) (2024.9.11)\n",
      "Requirement already satisfied: tqdm in /usr/local/lib/python3.10/dist-packages (from nltk) (4.66.5)\n",
      "Requirement already satisfied: sacremoses in /usr/local/lib/python3.10/dist-packages (0.1.1)\n",
      "Requirement already satisfied: regex in /usr/local/lib/python3.10/dist-packages (from sacremoses) (2024.9.11)\n",
      "Requirement already satisfied: click in /usr/local/lib/python3.10/dist-packages (from sacremoses) (8.1.7)\n",
      "Requirement already satisfied: joblib in /usr/local/lib/python3.10/dist-packages (from sacremoses) (1.4.2)\n",
      "Requirement already satisfied: tqdm in /usr/local/lib/python3.10/dist-packages (from sacremoses) (4.66.5)\n",
      "Requirement already satisfied: datasets in /usr/local/lib/python3.10/dist-packages (3.0.2)\n",
      "Requirement already satisfied: filelock in /usr/local/lib/python3.10/dist-packages (from datasets) (3.16.1)\n",
      "Requirement already satisfied: numpy>=1.17 in /usr/local/lib/python3.10/dist-packages (from datasets) (1.26.4)\n",
      "Requirement already satisfied: pyarrow>=15.0.0 in /usr/local/lib/python3.10/dist-packages (from datasets) (16.1.0)\n",
      "Requirement already satisfied: dill<0.3.9,>=0.3.0 in /usr/local/lib/python3.10/dist-packages (from datasets) (0.3.8)\n",
      "Requirement already satisfied: pandas in /usr/local/lib/python3.10/dist-packages (from datasets) (2.2.2)\n",
      "Requirement already satisfied: requests>=2.32.2 in /usr/local/lib/python3.10/dist-packages (from datasets) (2.32.3)\n",
      "Requirement already satisfied: tqdm>=4.66.3 in /usr/local/lib/python3.10/dist-packages (from datasets) (4.66.5)\n",
      "Requirement already satisfied: xxhash in /usr/local/lib/python3.10/dist-packages (from datasets) (3.5.0)\n",
      "Requirement already satisfied: multiprocess<0.70.17 in /usr/local/lib/python3.10/dist-packages (from datasets) (0.70.16)\n",
      "Requirement already satisfied: fsspec<=2024.9.0,>=2023.1.0 in /usr/local/lib/python3.10/dist-packages (from fsspec[http]<=2024.9.0,>=2023.1.0->datasets) (2024.6.1)\n",
      "Requirement already satisfied: aiohttp in /usr/local/lib/python3.10/dist-packages (from datasets) (3.10.10)\n",
      "Requirement already satisfied: huggingface-hub>=0.23.0 in /usr/local/lib/python3.10/dist-packages (from datasets) (0.24.7)\n",
      "Requirement already satisfied: packaging in /usr/local/lib/python3.10/dist-packages (from datasets) (24.1)\n",
      "Requirement already satisfied: pyyaml>=5.1 in /usr/local/lib/python3.10/dist-packages (from datasets) (6.0.2)\n",
      "Requirement already satisfied: aiohappyeyeballs>=2.3.0 in /usr/local/lib/python3.10/dist-packages (from aiohttp->datasets) (2.4.3)\n",
      "Requirement already satisfied: aiosignal>=1.1.2 in /usr/local/lib/python3.10/dist-packages (from aiohttp->datasets) (1.3.1)\n",
      "Requirement already satisfied: attrs>=17.3.0 in /usr/local/lib/python3.10/dist-packages (from aiohttp->datasets) (24.2.0)\n",
      "Requirement already satisfied: frozenlist>=1.1.1 in /usr/local/lib/python3.10/dist-packages (from aiohttp->datasets) (1.5.0)\n",
      "Requirement already satisfied: multidict<7.0,>=4.5 in /usr/local/lib/python3.10/dist-packages (from aiohttp->datasets) (6.1.0)\n",
      "Requirement already satisfied: yarl<2.0,>=1.12.0 in /usr/local/lib/python3.10/dist-packages (from aiohttp->datasets) (1.16.0)\n",
      "Requirement already satisfied: async-timeout<5.0,>=4.0 in /usr/local/lib/python3.10/dist-packages (from aiohttp->datasets) (4.0.3)\n",
      "Requirement already satisfied: typing-extensions>=3.7.4.3 in /usr/local/lib/python3.10/dist-packages (from huggingface-hub>=0.23.0->datasets) (4.12.2)\n",
      "Requirement already satisfied: charset-normalizer<4,>=2 in /usr/local/lib/python3.10/dist-packages (from requests>=2.32.2->datasets) (3.4.0)\n",
      "Requirement already satisfied: idna<4,>=2.5 in /usr/local/lib/python3.10/dist-packages (from requests>=2.32.2->datasets) (3.10)\n",
      "Requirement already satisfied: urllib3<3,>=1.21.1 in /usr/local/lib/python3.10/dist-packages (from requests>=2.32.2->datasets) (2.2.3)\n",
      "Requirement already satisfied: certifi>=2017.4.17 in /usr/local/lib/python3.10/dist-packages (from requests>=2.32.2->datasets) (2024.8.30)\n",
      "Requirement already satisfied: python-dateutil>=2.8.2 in /usr/local/lib/python3.10/dist-packages (from pandas->datasets) (2.8.2)\n",
      "Requirement already satisfied: pytz>=2020.1 in /usr/local/lib/python3.10/dist-packages (from pandas->datasets) (2024.2)\n",
      "Requirement already satisfied: tzdata>=2022.7 in /usr/local/lib/python3.10/dist-packages (from pandas->datasets) (2024.2)\n",
      "Requirement already satisfied: six>=1.5 in /usr/local/lib/python3.10/dist-packages (from python-dateutil>=2.8.2->pandas->datasets) (1.16.0)\n",
      "Requirement already satisfied: propcache>=0.2.0 in /usr/local/lib/python3.10/dist-packages (from yarl<2.0,>=1.12.0->aiohttp->datasets) (0.2.0)\n"
     ]
    }
   ],
   "source": [
    "%pip install nltk\n",
    "%pip install sacremoses\n",
    "%pip install datasets"
   ]
  },
  {
   "cell_type": "code",
   "execution_count": 10,
   "metadata": {
    "executionInfo": {
     "elapsed": 3,
     "status": "ok",
     "timestamp": 1730329209758,
     "user": {
      "displayName": "Ujwala Munigela",
      "userId": "00083464674266702357"
     },
     "user_tz": 240
    },
    "id": "WL2nf-z0XSeR"
   },
   "outputs": [],
   "source": [
    "from utils.dataset_load import DatasetLoader\n",
    "# from utils.data_preprocessing import DataPreprocessing\n",
    "from utils.backtranslation import *\n",
    "from collections import Counter"
   ]
  },
  {
   "cell_type": "code",
   "execution_count": 11,
   "metadata": {
    "colab": {
     "base_uri": "https://localhost:8080/"
    },
    "executionInfo": {
     "elapsed": 653,
     "status": "ok",
     "timestamp": 1730329210408,
     "user": {
      "displayName": "Ujwala Munigela",
      "userId": "00083464674266702357"
     },
     "user_tz": 240
    },
    "id": "im_2ejF0d6DK",
    "outputId": "df4d1181-2edd-474a-de4a-dbe1c44ac706"
   },
   "outputs": [
    {
     "output_type": "stream",
     "name": "stdout",
     "text": [
      "banking77 dataset loaded successfully.\n"
     ]
    }
   ],
   "source": [
    "dataset_name = \"banking77\"  # Set your dataset name here\n",
    "loader = DatasetLoader(dataset_name)\n",
    "X_train, y_train, X_test, y_test = loader.load()"
   ]
  },
  {
   "cell_type": "code",
   "execution_count": null,
   "metadata": {
    "id": "CPiNNjJhd_nI"
   },
   "outputs": [],
   "source": [
    "# dp = DataPreprocessing('english')\n",
    "# dp_X_train = dp.preprocess_data(X_train[:5])"
   ]
  },
  {
   "cell_type": "code",
   "execution_count": 12,
   "metadata": {
    "id": "nwmXD4ywrPb8",
    "colab": {
     "base_uri": "https://localhost:8080/",
     "height": 382
    },
    "executionInfo": {
     "status": "error",
     "timestamp": 1730329212335,
     "user_tz": 240,
     "elapsed": 1929,
     "user": {
      "displayName": "Ujwala Munigela",
      "userId": "00083464674266702357"
     }
    },
    "outputId": "52500db1-56ba-40cb-af82-79c98ec1d8ef"
   },
   "outputs": [
    {
     "output_type": "error",
     "ename": "KeyboardInterrupt",
     "evalue": "",
     "traceback": [
      "\u001B[0;31m---------------------------------------------------------------------------\u001B[0m",
      "\u001B[0;31mKeyboardInterrupt\u001B[0m                         Traceback (most recent call last)",
      "\u001B[0;32m<ipython-input-12-c3436832abd4>\u001B[0m in \u001B[0;36m<cell line: 3>\u001B[0;34m()\u001B[0m\n\u001B[1;32m      1\u001B[0m \u001B[0msrc_lang\u001B[0m\u001B[0;34m=\u001B[0m\u001B[0;34m\"en\"\u001B[0m\u001B[0;34m\u001B[0m\u001B[0;34m\u001B[0m\u001B[0m\n\u001B[1;32m      2\u001B[0m \u001B[0mtgt_lang\u001B[0m\u001B[0;34m=\u001B[0m\u001B[0;34m\"fr\"\u001B[0m\u001B[0;34m\u001B[0m\u001B[0;34m\u001B[0m\u001B[0m\n\u001B[0;32m----> 3\u001B[0;31m \u001B[0mbt\u001B[0m \u001B[0;34m=\u001B[0m \u001B[0mBackTranslationTraditional\u001B[0m\u001B[0;34m(\u001B[0m\u001B[0msrc_lang\u001B[0m\u001B[0;34m,\u001B[0m \u001B[0mtgt_lang\u001B[0m\u001B[0;34m)\u001B[0m\u001B[0;34m\u001B[0m\u001B[0;34m\u001B[0m\u001B[0m\n\u001B[0m",
      "\u001B[0;32m/content/drive/My Drive/682_Project/utils/backtranslation.py\u001B[0m in \u001B[0;36m__init__\u001B[0;34m(self, src_lang, tgt_lang)\u001B[0m\n\u001B[1;32m     15\u001B[0m         \u001B[0mself\u001B[0m\u001B[0;34m.\u001B[0m\u001B[0mtgt_lang\u001B[0m \u001B[0;34m=\u001B[0m \u001B[0mtgt_lang\u001B[0m\u001B[0;34m\u001B[0m\u001B[0;34m\u001B[0m\u001B[0m\n\u001B[1;32m     16\u001B[0m         \u001B[0mself\u001B[0m\u001B[0;34m.\u001B[0m\u001B[0men_to_fr_model\u001B[0m\u001B[0;34m,\u001B[0m \u001B[0mself\u001B[0m\u001B[0;34m.\u001B[0m\u001B[0men_to_fr_tokenizer\u001B[0m \u001B[0;34m=\u001B[0m\u001B[0;31m \u001B[0m\u001B[0;31m\\\u001B[0m\u001B[0;34m\u001B[0m\u001B[0;34m\u001B[0m\u001B[0m\n\u001B[0;32m---> 17\u001B[0;31m           self.load_translation_model(\n\u001B[0m\u001B[1;32m     18\u001B[0m             \u001B[0mself\u001B[0m\u001B[0;34m.\u001B[0m\u001B[0msrc_lang\u001B[0m\u001B[0;34m,\u001B[0m\u001B[0;34m\u001B[0m\u001B[0;34m\u001B[0m\u001B[0m\n\u001B[1;32m     19\u001B[0m             \u001B[0mself\u001B[0m\u001B[0;34m.\u001B[0m\u001B[0mtgt_lang\u001B[0m\u001B[0;34m\u001B[0m\u001B[0;34m\u001B[0m\u001B[0m\n",
      "\u001B[0;32m/content/drive/My Drive/682_Project/utils/backtranslation.py\u001B[0m in \u001B[0;36mload_translation_model\u001B[0;34m(self, src_lang, tgt_lang)\u001B[0m\n\u001B[1;32m     29\u001B[0m         \u001B[0mmodel_name\u001B[0m \u001B[0;34m=\u001B[0m \u001B[0;34mf'Helsinki-NLP/opus-mt-{src_lang}-{tgt_lang}'\u001B[0m\u001B[0;34m\u001B[0m\u001B[0;34m\u001B[0m\u001B[0m\n\u001B[1;32m     30\u001B[0m         \u001B[0mself\u001B[0m\u001B[0;34m.\u001B[0m\u001B[0mdevice\u001B[0m \u001B[0;34m=\u001B[0m \u001B[0mtorch\u001B[0m\u001B[0;34m.\u001B[0m\u001B[0mdevice\u001B[0m\u001B[0;34m(\u001B[0m\u001B[0;34m\"cuda\"\u001B[0m \u001B[0;32mif\u001B[0m \u001B[0mtorch\u001B[0m\u001B[0;34m.\u001B[0m\u001B[0mcuda\u001B[0m\u001B[0;34m.\u001B[0m\u001B[0mis_available\u001B[0m\u001B[0;34m(\u001B[0m\u001B[0;34m)\u001B[0m \u001B[0;32melse\u001B[0m \u001B[0;34m\"cpu\"\u001B[0m\u001B[0;34m)\u001B[0m\u001B[0;34m\u001B[0m\u001B[0;34m\u001B[0m\u001B[0m\n\u001B[0;32m---> 31\u001B[0;31m         \u001B[0mmodel\u001B[0m \u001B[0;34m=\u001B[0m \u001B[0mMarianMTModel\u001B[0m\u001B[0;34m.\u001B[0m\u001B[0mfrom_pretrained\u001B[0m\u001B[0;34m(\u001B[0m\u001B[0mmodel_name\u001B[0m\u001B[0;34m)\u001B[0m\u001B[0;34m\u001B[0m\u001B[0;34m\u001B[0m\u001B[0m\n\u001B[0m\u001B[1;32m     32\u001B[0m         \u001B[0;31m# model.to(self.device)\u001B[0m\u001B[0;34m\u001B[0m\u001B[0;34m\u001B[0m\u001B[0m\n\u001B[1;32m     33\u001B[0m         \u001B[0mtokenizer\u001B[0m \u001B[0;34m=\u001B[0m \u001B[0mMarianTokenizer\u001B[0m\u001B[0;34m.\u001B[0m\u001B[0mfrom_pretrained\u001B[0m\u001B[0;34m(\u001B[0m\u001B[0mmodel_name\u001B[0m\u001B[0;34m)\u001B[0m\u001B[0;34m\u001B[0m\u001B[0;34m\u001B[0m\u001B[0m\n",
      "\u001B[0;32m/usr/local/lib/python3.10/dist-packages/transformers/modeling_utils.py\u001B[0m in \u001B[0;36mfrom_pretrained\u001B[0;34m(cls, pretrained_model_name_or_path, config, cache_dir, ignore_mismatched_sizes, force_download, local_files_only, token, revision, use_safetensors, *model_args, **kwargs)\u001B[0m\n\u001B[1;32m   3758\u001B[0m             \u001B[0;32mif\u001B[0m \u001B[0;32mnot\u001B[0m \u001B[0mis_sharded\u001B[0m \u001B[0;32mand\u001B[0m \u001B[0mstate_dict\u001B[0m \u001B[0;32mis\u001B[0m \u001B[0;32mNone\u001B[0m\u001B[0;34m:\u001B[0m\u001B[0;34m\u001B[0m\u001B[0;34m\u001B[0m\u001B[0m\n\u001B[1;32m   3759\u001B[0m                 \u001B[0;31m# Time to load the checkpoint\u001B[0m\u001B[0;34m\u001B[0m\u001B[0;34m\u001B[0m\u001B[0m\n\u001B[0;32m-> 3760\u001B[0;31m                 \u001B[0mstate_dict\u001B[0m \u001B[0;34m=\u001B[0m \u001B[0mload_state_dict\u001B[0m\u001B[0;34m(\u001B[0m\u001B[0mresolved_archive_file\u001B[0m\u001B[0;34m)\u001B[0m\u001B[0;34m\u001B[0m\u001B[0;34m\u001B[0m\u001B[0m\n\u001B[0m\u001B[1;32m   3761\u001B[0m \u001B[0;34m\u001B[0m\u001B[0m\n\u001B[1;32m   3762\u001B[0m             \u001B[0;31m# set dtype to instantiate the model under:\u001B[0m\u001B[0;34m\u001B[0m\u001B[0;34m\u001B[0m\u001B[0m\n",
      "\u001B[0;32m/usr/local/lib/python3.10/dist-packages/transformers/modeling_utils.py\u001B[0m in \u001B[0;36mload_state_dict\u001B[0;34m(checkpoint_file, is_quantized)\u001B[0m\n\u001B[1;32m    572\u001B[0m             \u001B[0mextra_args\u001B[0m \u001B[0;34m=\u001B[0m \u001B[0;34m{\u001B[0m\u001B[0;34m\"mmap\"\u001B[0m\u001B[0;34m:\u001B[0m \u001B[0;32mTrue\u001B[0m\u001B[0;34m}\u001B[0m\u001B[0;34m\u001B[0m\u001B[0;34m\u001B[0m\u001B[0m\n\u001B[1;32m    573\u001B[0m         \u001B[0mweights_only_kwarg\u001B[0m \u001B[0;34m=\u001B[0m \u001B[0;34m{\u001B[0m\u001B[0;34m\"weights_only\"\u001B[0m\u001B[0;34m:\u001B[0m \u001B[0;32mTrue\u001B[0m\u001B[0;34m}\u001B[0m \u001B[0;32mif\u001B[0m \u001B[0mis_torch_greater_or_equal_than_1_13\u001B[0m \u001B[0;32melse\u001B[0m \u001B[0;34m{\u001B[0m\u001B[0;34m}\u001B[0m\u001B[0;34m\u001B[0m\u001B[0;34m\u001B[0m\u001B[0m\n\u001B[0;32m--> 574\u001B[0;31m         return torch.load(\n\u001B[0m\u001B[1;32m    575\u001B[0m             \u001B[0mcheckpoint_file\u001B[0m\u001B[0;34m,\u001B[0m\u001B[0;34m\u001B[0m\u001B[0;34m\u001B[0m\u001B[0m\n\u001B[1;32m    576\u001B[0m             \u001B[0mmap_location\u001B[0m\u001B[0;34m=\u001B[0m\u001B[0mmap_location\u001B[0m\u001B[0;34m,\u001B[0m\u001B[0;34m\u001B[0m\u001B[0;34m\u001B[0m\u001B[0m\n",
      "\u001B[0;32m/usr/local/lib/python3.10/dist-packages/torch/serialization.py\u001B[0m in \u001B[0;36mload\u001B[0;34m(f, map_location, pickle_module, weights_only, mmap, **pickle_load_args)\u001B[0m\n\u001B[1;32m   1374\u001B[0m         \u001B[0;32mif\u001B[0m \u001B[0mweights_only\u001B[0m\u001B[0;34m:\u001B[0m\u001B[0;34m\u001B[0m\u001B[0;34m\u001B[0m\u001B[0m\n\u001B[1;32m   1375\u001B[0m             \u001B[0;32mtry\u001B[0m\u001B[0;34m:\u001B[0m\u001B[0;34m\u001B[0m\u001B[0;34m\u001B[0m\u001B[0m\n\u001B[0;32m-> 1376\u001B[0;31m                 return _legacy_load(\n\u001B[0m\u001B[1;32m   1377\u001B[0m                     \u001B[0mopened_file\u001B[0m\u001B[0;34m,\u001B[0m\u001B[0;34m\u001B[0m\u001B[0;34m\u001B[0m\u001B[0m\n\u001B[1;32m   1378\u001B[0m                     \u001B[0mmap_location\u001B[0m\u001B[0;34m,\u001B[0m\u001B[0;34m\u001B[0m\u001B[0;34m\u001B[0m\u001B[0m\n",
      "\u001B[0;32m/usr/local/lib/python3.10/dist-packages/torch/serialization.py\u001B[0m in \u001B[0;36m_legacy_load\u001B[0;34m(f, map_location, pickle_module, **pickle_load_args)\u001B[0m\n\u001B[1;32m   1645\u001B[0m             \u001B[0;32massert\u001B[0m \u001B[0mkey\u001B[0m \u001B[0;32min\u001B[0m \u001B[0mdeserialized_objects\u001B[0m\u001B[0;34m\u001B[0m\u001B[0;34m\u001B[0m\u001B[0m\n\u001B[1;32m   1646\u001B[0m             \u001B[0mtyped_storage\u001B[0m \u001B[0;34m=\u001B[0m \u001B[0mdeserialized_objects\u001B[0m\u001B[0;34m[\u001B[0m\u001B[0mkey\u001B[0m\u001B[0;34m]\u001B[0m\u001B[0;34m\u001B[0m\u001B[0;34m\u001B[0m\u001B[0m\n\u001B[0;32m-> 1647\u001B[0;31m             typed_storage._untyped_storage._set_from_file(\n\u001B[0m\u001B[1;32m   1648\u001B[0m                 \u001B[0mf\u001B[0m\u001B[0;34m,\u001B[0m\u001B[0;34m\u001B[0m\u001B[0;34m\u001B[0m\u001B[0m\n\u001B[1;32m   1649\u001B[0m                 \u001B[0moffset\u001B[0m\u001B[0;34m,\u001B[0m\u001B[0;34m\u001B[0m\u001B[0;34m\u001B[0m\u001B[0m\n",
      "\u001B[0;31mKeyboardInterrupt\u001B[0m: "
     ]
    }
   ],
   "source": [
    "src_lang=\"en\"\n",
    "tgt_lang=\"fr\"\n",
    "bt = BackTranslationTraditional(src_lang, tgt_lang)"
   ]
  },
  {
   "cell_type": "code",
   "execution_count": null,
   "metadata": {
    "colab": {
     "base_uri": "https://localhost:8080/"
    },
    "executionInfo": {
     "elapsed": 12428,
     "status": "ok",
     "timestamp": 1730237598206,
     "user": {
      "displayName": "Ujwala Munigela",
      "userId": "00083464674266702357"
     },
     "user_tz": 240
    },
    "id": "H24QYmuFDAAu",
    "outputId": "885c4a5c-643e-48fb-8da6-d336fe7b0e1f"
   },
   "outputs": [
    {
     "name": "stderr",
     "output_type": "stream",
     "text": [
      "[nltk_data] Downloading package wordnet to /root/nltk_data...\n",
      "[nltk_data]   Package wordnet is already up-to-date!\n"
     ]
    }
   ],
   "source": [
    "bt_X_train = bt.back_translation(X_train[:5])"
   ]
  },
  {
   "cell_type": "code",
   "source": [
    "for i in range(5):\n",
    "  print(X_train[i])"
   ],
   "metadata": {
    "id": "2RZXowdtTJ47",
    "executionInfo": {
     "status": "ok",
     "timestamp": 1730329219649,
     "user_tz": 240,
     "elapsed": 217,
     "user": {
      "displayName": "Ujwala Munigela",
      "userId": "00083464674266702357"
     }
    },
    "outputId": "93092407-6caf-4a73-b1d0-8f8c9dcac1f6",
    "colab": {
     "base_uri": "https://localhost:8080/"
    }
   },
   "execution_count": 13,
   "outputs": [
    {
     "output_type": "stream",
     "name": "stdout",
     "text": [
      "I am still waiting on my card?\n",
      "What can I do if my card still hasn't arrived after 2 weeks?\n",
      "I have been waiting over a week. Is the card still coming?\n",
      "Can I track my card while it is in the process of delivery?\n",
      "How do I know if I will get my card, or if it is lost?\n"
     ]
    }
   ]
  },
  {
   "cell_type": "code",
   "execution_count": null,
   "metadata": {
    "colab": {
     "base_uri": "https://localhost:8080/"
    },
    "id": "3wrq98lWB9AP",
    "outputId": "46490807-fc14-4a5a-be95-d3349923bd12"
   },
   "outputs": [
    {
     "metadata": {
      "tags": null
     },
     "name": "stderr",
     "output_type": "stream",
     "text": [
      "[nltk_data] Downloading package wordnet to /root/nltk_data...\n",
      "[nltk_data]   Package wordnet is already up-to-date!\n"
     ]
    },
    {
     "output_type": "stream",
     "name": "stdout",
     "text": [
      "Checkpoint saved: 5700 sentences processed.\n",
      "Checkpoint saved: 5800 sentences processed.\n",
      "Checkpoint saved: 5900 sentences processed.\n",
      "Checkpoint saved: 6000 sentences processed.\n",
      "Checkpoint saved: 6100 sentences processed.\n",
      "Checkpoint saved: 6200 sentences processed.\n",
      "Checkpoint saved: 6300 sentences processed.\n",
      "Checkpoint saved: 6400 sentences processed.\n",
      "Checkpoint saved: 6500 sentences processed.\n",
      "Checkpoint saved: 6600 sentences processed.\n",
      "Checkpoint saved: 6700 sentences processed.\n",
      "Checkpoint saved: 6800 sentences processed.\n",
      "Checkpoint saved: 6900 sentences processed.\n",
      "Checkpoint saved: 7000 sentences processed.\n",
      "Checkpoint saved: 7100 sentences processed.\n",
      "Checkpoint saved: 7200 sentences processed.\n",
      "Checkpoint saved: 7300 sentences processed.\n",
      "Checkpoint saved: 7400 sentences processed.\n",
      "Checkpoint saved: 7500 sentences processed.\n",
      "Checkpoint saved: 7600 sentences processed.\n",
      "Checkpoint saved: 7700 sentences processed.\n"
     ]
    }
   ],
   "source": [
    "out_file = 'traditional_backtranslated_text.txt'\n",
    "bt.process_data(X_train, out_file, 100)"
   ]
  },
  {
   "cell_type": "code",
   "source": [
    "from utils.augmentation import DataAugmentation"
   ],
   "metadata": {
    "id": "v2RS8k5NLNLk",
    "executionInfo": {
     "status": "ok",
     "timestamp": 1730329226119,
     "user_tz": 240,
     "elapsed": 564,
     "user": {
      "displayName": "Ujwala Munigela",
      "userId": "00083464674266702357"
     }
    }
   },
   "execution_count": 14,
   "outputs": []
  },
  {
   "cell_type": "code",
   "execution_count": 17,
   "outputs": [
    {
     "output_type": "stream",
     "name": "stdout",
     "text": [
      "10003\n"
     ]
    }
   ],
   "source": [
    "traditional_bt_file = \"traditional_backtranslated_text.txt\"\n",
    "llm_bt_file = \"TranslatesLLM.xlsx\"\n",
    "aug = DataAugmentation(traditional_bt_file, llm_bt_file, X_train, y_train)"
   ],
   "metadata": {
    "id": "cGHn1xSYvHrW",
    "colab": {
     "base_uri": "https://localhost:8080/"
    },
    "executionInfo": {
     "status": "ok",
     "timestamp": 1730329703531,
     "user_tz": 240,
     "elapsed": 1555,
     "user": {
      "displayName": "Ujwala Munigela",
      "userId": "00083464674266702357"
     }
    },
    "outputId": "afcdd0bd-3259-4d50-e94d-c2636e2665b6"
   }
  },
  {
   "cell_type": "code",
   "source": [
    "aug.augment(10)"
   ],
   "metadata": {
    "colab": {
     "base_uri": "https://localhost:8080/"
    },
    "id": "BKO0pnl-wDqm",
    "executionInfo": {
     "status": "ok",
     "timestamp": 1730331359136,
     "user_tz": 240,
     "elapsed": 176,
     "user": {
      "displayName": "Ujwala Munigela",
      "userId": "00083464674266702357"
     }
    },
    "outputId": "02bb2d88-9741-47b9-f309-8e7e16d8092a"
   },
   "execution_count": 51,
   "outputs": [
    {
     "output_type": "stream",
     "name": "stdout",
     "text": [
      "Data Augmentation completed. Seed: 10\n"
     ]
    }
   ]
  },
  {
   "cell_type": "code",
   "source": [
    "import numpy as np\n",
    "np_array = np.array(aug.llm_translated_data)"
   ],
   "metadata": {
    "id": "iL3fRn45suJd",
    "executionInfo": {
     "status": "ok",
     "timestamp": 1730331233320,
     "user_tz": 240,
     "elapsed": 177,
     "user": {
      "displayName": "Ujwala Munigela",
      "userId": "00083464674266702357"
     }
    }
   },
   "execution_count": 48,
   "outputs": []
  },
  {
   "cell_type": "code",
   "source": [
    "# aug.get_llm_augmented_data(\"LLM_Augmented_Data\")\n",
    "aug.get_traditional_augmented_data(\"Traditional_Augmented_Data\")\n",
    "aug.get_original_imbalanced_data(\"Imbalaced_Original_Data\")"
   ],
   "metadata": {
    "colab": {
     "base_uri": "https://localhost:8080/"
    },
    "id": "KN2TAb28sMl_",
    "executionInfo": {
     "status": "ok",
     "timestamp": 1730331368868,
     "user_tz": 240,
     "elapsed": 178,
     "user": {
      "displayName": "Ujwala Munigela",
      "userId": "00083464674266702357"
     }
    },
    "outputId": "78c0c46a-9632-4b95-cf4e-3e03efdcdca7"
   },
   "execution_count": 53,
   "outputs": [
    {
     "output_type": "stream",
     "name": "stdout",
     "text": [
      "Traditional Augmented Data successfully written to file : Traditional_Augmented_Data_10.csv\n",
      "LLM Augmented Data successfully written to file : Imbalaced_Original_Data_10.csv\n"
     ]
    }
   ]
  }
 ],
 "metadata": {
  "colab": {
   "provenance": []
  },
  "kernelspec": {
   "display_name": "Python 3",
   "name": "python3"
  },
  "language_info": {
   "name": "python"
  }
 },
 "nbformat": 4,
 "nbformat_minor": 0
}
